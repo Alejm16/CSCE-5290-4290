{
  "nbformat": 4,
  "nbformat_minor": 2,
  "metadata": {
    "colab": {
      "name": "ICE-2.ipynb",
      "provenance": [],
      "collapsed_sections": []
    },
    "kernelspec": {
      "name": "python3",
      "display_name": "Python 3.8.3 64-bit ('base': conda)"
    },
    "language_info": {
      "name": "python",
      "version": "3.8.3",
      "mimetype": "text/x-python",
      "codemirror_mode": {
        "name": "ipython",
        "version": 3
      },
      "pygments_lexer": "ipython3",
      "nbconvert_exporter": "python",
      "file_extension": ".py"
    },
    "interpreter": {
      "hash": "6d30b5e3d8458958b66c933fe6f3405088cd488385ed697973cbe2f67ff398af"
    }
  },
  "cells": [
    {
      "cell_type": "markdown",
      "source": [
        "# **ICE-2: Regular Expressions**"
      ],
      "metadata": {
        "id": "h2VS_WlNsjy8"
      }
    },
    {
      "cell_type": "markdown",
      "source": [
        "Python includes a builtin module called `re` which provides regular expression matching operations (Click [here](https://docs.python.org/3/library/re.html) for the official module documentation). Once the module is imported into your code, you can use all of the available capabilities for performing pattern-based matching or searching using regular expressions."
      ],
      "metadata": {
        "id": "nlsTiXHghLtz"
      }
    },
    {
      "cell_type": "code",
      "execution_count": 1,
      "source": [
        "import re\r\n",
        "\r\n",
        "def apply_regex(data, pattern):\r\n",
        "  for text in data:\r\n",
        "    if re.fullmatch(pattern, text):\r\n",
        "      print(f\"Test string {text} accepted.\")\r\n",
        "    else:\r\n",
        "      print(f\"Test string {text} failed!\")"
      ],
      "outputs": [],
      "metadata": {
        "id": "sPmWaxpPsdad"
      }
    },
    {
      "cell_type": "markdown",
      "source": [
        "Let's write a simple regular expression for matching binary strings."
      ],
      "metadata": {
        "id": "WMOFir3uh-vB"
      }
    },
    {
      "cell_type": "code",
      "execution_count": null,
      "source": [
        "# find binary strings\r\n",
        "test_strings = [\"0\", \"1\", \"dog\", \"hello, world\", \"123\", \"00\", \"10101010111\"]\r\n",
        "binary_pattern = r'[0-1]+'\r\n",
        "apply_regex(test_strings, binary_pattern)"
      ],
      "outputs": [],
      "metadata": {
        "id": "mBajNIsYWxXA"
      }
    },
    {
      "cell_type": "markdown",
      "source": [
        "Now, how about for matching 24-bit hexadecimal codes?"
      ],
      "metadata": {
        "id": "l1CzcvAxiIzj"
      }
    },
    {
      "cell_type": "code",
      "execution_count": null,
      "source": [
        "# find 24-bit hexadecimal color codes\r\n",
        "test_strings = [\"#F0F8FF\", \"#FFF\", \"#00FFFFF\", \"#2980BD\", \"#FAEBD7\"]\r\n",
        "hexcode_pattern = r'\\#[0-9A-F]{4,6}'\r\n",
        "apply_regex(test_strings, hexcode_pattern)"
      ],
      "outputs": [],
      "metadata": {
        "id": "rS_lCpxUWzWw"
      }
    },
    {
      "cell_type": "markdown",
      "source": [
        "#### **Question 1.**\r\n",
        "\r\n",
        "*Identify what types of strings the regular expression in the below code block represents?* \r\n",
        "\r\n",
        "Answer: The types of strings that the regular expression gets are essentialy 3 numbers (0-9) at the beginning that are surrounded by parenthesis [Ex: (123)] One thing to note is that this part is optional, which is given by the '?' in the regular expression. After the first 3 numberes if there is any there has to be a space and then from there the regular expression needs to have 3 numbers (1-9) followed by a hyphen '-' and then 4 more numbers (1-9)."
      ],
      "metadata": {
        "id": "o-JWQ90fYSuX"
      }
    },
    {
      "cell_type": "code",
      "execution_count": 2,
      "source": [
        "# All you need to do is run this code block, analyze the output and answer the associated question.\r\n",
        "re_pattern = r'(\\([0-9][0-9][0-9]\\)\\s)?[0-9][0-9][0-9]-[0-9][0-9][0-9][0-9]'\r\n",
        "test_strings = [\"00\", \"999-999-9999\", \"(111) 111-1111\", \"(111)111-1111\", \"989-1830\", \"241/131/103\", \"(182).1903.1021\", \"(101).101.1001\"]\r\n",
        "apply_regex(test_strings, re_pattern)"
      ],
      "outputs": [
        {
          "output_type": "stream",
          "name": "stdout",
          "text": [
            "Test string 00 failed!\n",
            "Test string 999-999-9999 failed!\n",
            "Test string (111) 111-1111 accepted.\n",
            "Test string (111)111-1111 failed!\n",
            "Test string 989-1830 accepted.\n",
            "Test string 241/131/103 failed!\n",
            "Test string (182).1903.1021 failed!\n",
            "Test string (101).101.1001 failed!\n"
          ]
        }
      ],
      "metadata": {
        "id": "FbtEOfAe763d"
      }
    },
    {
      "cell_type": "markdown",
      "source": [
        "#### **Question 2.**\r\n",
        "\r\n",
        "*Modify the regular expression (used in Q1.) to also accept strings that follow the format `xxx-xxx-xxxx` where `x` is a digit between 0 to 9?*"
      ],
      "metadata": {
        "id": "iiTS66MlYlSI"
      }
    },
    {
      "cell_type": "code",
      "execution_count": 15,
      "source": [
        "# Replace the modified regular expression in the code snippet used in Question 1\r\n",
        "# Add your code below this comment and execute your code\r\n",
        "re_pattern = r'(\\(?[0-9][0-9][0-9]\\)?((\\s)|[-]))?[0-9][0-9][0-9]-[0-9][0-9][0-9][0-9]'\r\n",
        "test_strings = [\"00\", \"999-999-9999\", \"(111) 111-1111\", \"(111)111-1111\", \"989-1830\", \"241/131/103\", \"(182).1903.1021\", \"(101).101.1001\"]\r\n",
        "apply_regex(test_strings, re_pattern)\r\n"
      ],
      "outputs": [
        {
          "output_type": "stream",
          "name": "stdout",
          "text": [
            "Test string 00 failed!\n",
            "Test string 999-999-9999 accepted.\n",
            "Test string (111) 111-1111 accepted.\n",
            "Test string (111)111-1111 failed!\n",
            "Test string 989-1830 accepted.\n",
            "Test string 241/131/103 failed!\n",
            "Test string (182).1903.1021 failed!\n",
            "Test string (101).101.1001 failed!\n"
          ]
        }
      ],
      "metadata": {
        "id": "TjvX9NihaAR8"
      }
    },
    {
      "cell_type": "markdown",
      "source": [
        "#### **Question 3.**\n",
        "\n",
        "*Modify the regular expression (used in Q2.) to also accept strings that are of the form `(xxx) xxx-xxxx` and `(xxx)xxx-xxxx` where `x` is a digit between 0 to 9?*"
      ],
      "metadata": {
        "id": "wSJ-89VjY-TI"
      }
    },
    {
      "cell_type": "code",
      "execution_count": 40,
      "source": [
        "# Replace the modified regular expression in the code snippet used in Question 2\r\n",
        "# Add your code below this comment and execute your code\r\n",
        "re_pattern = r'(\\(?[0-9][0-9][0-9]\\)?((\\s)?|[-]?))?[0-9][0-9][0-9]-[0-9][0-9][0-9][0-9]'\r\n",
        "test_strings = [\"00\", \"999-999-9999\", \"(111) 111-1111\", \"(111)111-1111\", \"989-1830\", \"241/131/103\", \"(182).1903.1021\", \"(101).101.1001\"]\r\n",
        "apply_regex(test_strings, re_pattern)\r\n"
      ],
      "outputs": [
        {
          "output_type": "stream",
          "name": "stdout",
          "text": [
            "Test string 00 failed!\n",
            "Test string 999-999-9999 accepted.\n",
            "Test string (111) 111-1111 accepted.\n",
            "Test string (111)111-1111 accepted.\n",
            "Test string 989-1830 accepted.\n",
            "Test string 241/131/103 failed!\n",
            "Test string (182).1903.1021 failed!\n",
            "Test string (101).101.1001 failed!\n"
          ]
        }
      ],
      "metadata": {
        "id": "QG0qg465aMqu"
      }
    },
    {
      "cell_type": "markdown",
      "source": [
        "#### **Question 4.**\n",
        "\n",
        "*Modify the regular expression (used in Q3.) to accept strings that have the format `(xxx)-xxx-xxxx` and `(xxx).xxx.xxxx` but reject strings that are of the format `(xxx)/xxx.xxxx` where `x` is a digit between 0 to 9?*"
      ],
      "metadata": {
        "id": "VPQF3tOjZW0P"
      }
    },
    {
      "cell_type": "code",
      "execution_count": 50,
      "source": [
        "# Replace the modified regular expression in the code snippet used in Question 3\r\n",
        "# Add your code below this comment and execute your code\r\n",
        "re_pattern = r'(\\(?[0-9][0-9][0-9]\\)?\\.?((\\s)?|[-]?))?[0-9][0-9][0-9]-[0-9][0-9][0-9][0-9]'\r\n",
        "test_strings = [\"00\", \"999-999-9999\",\"(999)-123-1234\" ,\"(123)-123-1234\",\"(123).123.1234\",\"(123).123-1234\",\"(111) 111-1111\", \"(111)111-1111\", \"989-1830\", \"241/131/103\", \"(182).1903.1021\", \"(101).101.1001\"]\r\n",
        "apply_regex(test_strings, re_pattern)\r\n"
      ],
      "outputs": [
        {
          "output_type": "stream",
          "name": "stdout",
          "text": [
            "Test string 00 failed!\n",
            "Test string 999-999-9999 accepted.\n",
            "Test string (999)-123-1234 accepted.\n",
            "Test string (123)-123-1234 accepted.\n",
            "Test string (123).123.1234 failed!\n",
            "Test string (123).123-1234 accepted.\n",
            "Test string (111) 111-1111 accepted.\n",
            "Test string (111)111-1111 accepted.\n",
            "Test string 989-1830 accepted.\n",
            "Test string 241/131/103 failed!\n",
            "Test string (182).1903.1021 failed!\n",
            "Test string (101).101.1001 failed!\n"
          ]
        }
      ],
      "metadata": {
        "id": "Ox7WciR-aNg3"
      }
    },
    {
      "cell_type": "markdown",
      "source": [
        "---"
      ],
      "metadata": {
        "id": "l0rOljUHdmRR"
      }
    },
    {
      "cell_type": "markdown",
      "source": [
        "## **Using regular expressions based pattern matching on real world text**\n",
        "\n",
        "For the purposes of demonstration, here's a dummy paragraph of text. A few observations here:\n",
        "* The text has multiple paragraphs with each paragraph having more than one sentence. \n",
        "* Some of the words are capitalized (first letter is in uppercase followed by lowercase letters). "
      ],
      "metadata": {
        "id": "8_rLt00EaZvB"
      }
    },
    {
      "cell_type": "code",
      "execution_count": null,
      "source": [
        "text = \"\"\"Here is the First Paragraph and this is the First Sentence. here is the Second Sentence. now is the Third Sentence. this is the Fourth Sentence of the first paragaraph. this paragraph is ending now with a Fifth Sentence.\r\n",
        "Now, it is the Second Paragraph and its First Sentence. here is the Second Sentence. now is the Third Sentence. this is the Fourth Sentence of the second paragraph. this paragraph is ending now with a Fifth Sentence.\r\n",
        "Finally, this is the Third Paragraph and is the First Sentence of this paragraph. here is the Second Sentence. now is the Third Sentence. this is the Fourth Sentence of the third paragaraph. this paragraph is ending now with a Fifth Sentence.\r\n",
        "4th paragraph is not going to be detected by either of the regex patterns below.\r\n",
        "\"\"\"\r\n",
        "\r\n",
        "print(text)"
      ],
      "outputs": [],
      "metadata": {
        "id": "M6aDPflCCMM1"
      }
    },
    {
      "cell_type": "markdown",
      "source": [
        "The following code block shows a regular expression that matches only those strings that:\n",
        "1. are at the start of a line and\n",
        "2. the string does not start with a number or a whitespace\n",
        "\n",
        "`re.findall()` finds all matches of the pattern in the text under consideration. The output is a list of strings that matched."
      ],
      "metadata": {
        "id": "dCZTjsmadgKZ"
      }
    },
    {
      "cell_type": "code",
      "execution_count": null,
      "source": [
        "re_pattern1 = r'^[^0-9 ]+'\r\n",
        "print(re.findall(re_pattern1, text, re.MULTILINE))"
      ],
      "outputs": [],
      "metadata": {
        "id": "R1xFyRSUdgm7"
      }
    },
    {
      "cell_type": "markdown",
      "source": [
        "Further, the regular expression defined below matches two consecutive words that are capitalized."
      ],
      "metadata": {
        "id": "GtCXyrandj-s"
      }
    },
    {
      "cell_type": "code",
      "execution_count": null,
      "source": [
        "re_pattern2 = r'[A-Z][a-z]+ [A-Z][a-z]+'\r\n",
        "print(re.findall(re_pattern2, text))"
      ],
      "outputs": [],
      "metadata": {
        "id": "d-RhWLyDdjZp"
      }
    },
    {
      "cell_type": "markdown",
      "source": [
        "\n",
        "\n",
        "Following is a text excerpt on \"Inaugural Address\" taken from the website of the [Joint Congressional Committee on Inaugural Ceremonies](https://www.inaugural.senate.gov/inaugural-address/):"
      ],
      "metadata": {
        "id": "88CbasJvagxH"
      }
    },
    {
      "cell_type": "code",
      "execution_count": null,
      "source": [
        "inau_text=\"\"\"The custom of delivering an address on Inauguration Day started with the very first Inauguration—George Washington’s—on April 30, 1789. After taking his oath of office on the balcony of Federal Hall in New York City, Washington proceeded to the Senate chamber where he read a speech before members of Congress and other dignitaries. His second Inauguration took place in Philadelphia on March 4, 1793, in the Senate chamber of Congress Hall. There, Washington gave the shortest Inaugural address on record—just 135 words —before repeating the oath of office.\r\n",
        "Every President since Washington has delivered an Inaugural address. While many of the early Presidents read their addresses before taking the oath, current custom dictates that the Chief Justice of the Supreme Court administer the oath first, followed by the President’s speech.\r\n",
        "William Henry Harrison delivered the longest Inaugural address, at 8,445 words, on March 4, 1841—a bitterly cold, wet day. He died one month later of pneumonia, believed to have been brought on by prolonged exposure to the elements on his Inauguration Day. John Adams’ Inaugural address, which totaled 2,308 words, contained the longest sentence, at 737 words. After Washington’s second Inaugural address, the next shortest was Franklin D. Roosevelt’s fourth address on January 20, 1945, at just 559 words. Roosevelt had chosen to have a simple Inauguration at the White House in light of the nation’s involvement in World War II.\r\n",
        "In 1921, Warren G. Harding became the first President to take his oath and deliver his Inaugural address through loud speakers. In 1925, Calvin Coolidge’s Inaugural address was the first to be broadcast nationally by radio. And in 1949, Harry S. Truman became the first President to deliver his Inaugural address over television airwaves.\r\n",
        "Most Presidents use their Inaugural address to present their vision of America and to set forth their goals for the nation. Some of the most eloquent and powerful speeches are still quoted today. In 1865, in the waning days of the Civil War, Abraham Lincoln stated, “With malice toward none, with charity for all, with firmness in the right as God gives us to see the right, let us strive on to finish the work we are in, to bind up the nation’s wounds, to care for him who shall have borne the battle and for his widow and his orphan, to do all which may achieve and cherish a just and lasting peace among ourselves and with all nations.” In 1933, Franklin D. Roosevelt avowed, “we have nothing to fear but fear itself.” And in 1961, John F. Kennedy declared, “And so my fellow Americans: ask not what your country can do for you—ask what you can do for your country.”\r\n",
        "Today, Presidents deliver their Inaugural address on the West Front of the Capitol, but this has not always been the case. Until Andrew Jackson’s first Inauguration in 1829, most Presidents spoke in either the House or Senate chambers. Jackson became the first President to take his oath of office and deliver his address on the East Front Portico of the U.S. Capitol in 1829. With few exceptions, the next 37 Inaugurations took place there, until 1981, when Ronald Reagan’s Swearing-In Ceremony and Inaugural address occurred on the West Front Terrace of the Capitol. The West Front has been used ever since.\"\"\"\r\n",
        "\r\n"
      ],
      "outputs": [],
      "metadata": {
        "id": "XybBR7nvLpR8"
      }
    },
    {
      "cell_type": "markdown",
      "source": [
        "#### **Question 5a.**\n",
        "\n",
        "*Identify all the capitalized words in the \"Inaugural Address\" excerpt and write a regular expression that finds all occurrences of such words in the text. Then, run the Python code snippet to automatically display the matched strings according to the pattern.*.\n",
        "\n",
        "NOTE: You can use the *re.findall()* method as demonstrated in the example before this exercise."
      ],
      "metadata": {
        "id": "ruu4xqGqbbXv"
      }
    },
    {
      "cell_type": "code",
      "execution_count": null,
      "source": [
        "# Write your code below these comments and execute your code\r\n",
        "# HINT: You may need to tweak the use of capture groups to NOT capture partial matches\r\n",
        "# For e.g. 'New York' instead of 'New', 'York')\r\n",
        "\r\n"
      ],
      "outputs": [],
      "metadata": {
        "id": "RJoeu9M7bxxe"
      }
    },
    {
      "cell_type": "markdown",
      "source": [
        "#### **Question 5b.**\n",
        "\n",
        "*Identify all the dates in the \"Inaugural Address\" excerpt and write a regular expression that finds all occurrences of the dates in the text. Then, run the Python code snippet to automatically display a list of all such dates identified.*\n",
        "\n",
        "NOTE: You can use the *re.findall()* method as demonstrated in the example before this exercise."
      ],
      "metadata": {
        "id": "0mBvooHSb3mF"
      }
    },
    {
      "cell_type": "code",
      "execution_count": null,
      "source": [
        "# Write your code below these comments and execute your code\n",
        "# HINT: You may need to tweak the use of capture groups to NOT capture partial matches\n",
        "# For e.g. 'April 20, 1945' instead of 'April', '20')\n",
        "\n"
      ],
      "outputs": [],
      "metadata": {
        "id": "fS_Gf1lkb3vM"
      }
    },
    {
      "cell_type": "markdown",
      "source": [
        "---"
      ],
      "metadata": {
        "id": "WymTuLF6sj5w"
      }
    }
  ]
}